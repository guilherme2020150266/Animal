{
  "nbformat": 4,
  "nbformat_minor": 0,
  "metadata": {
    "colab": {
      "name": "ProjetoFinal.ipynb",
      "provenance": [],
      "collapsed_sections": [],
      "include_colab_link": true
    },
    "kernelspec": {
      "name": "python3",
      "display_name": "Python 3"
    },
    "language_info": {
      "name": "python"
    },
    "accelerator": "GPU"
  },
  "cells": [
    {
      "cell_type": "markdown",
      "metadata": {
        "id": "view-in-github",
        "colab_type": "text"
      },
      "source": [
        "<a href=\"https://colab.research.google.com/github/guilherme2020150266/Animal/blob/master/ProjetoFinal.ipynb\" target=\"_parent\"><img src=\"https://colab.research.google.com/assets/colab-badge.svg\" alt=\"Open In Colab\"/></a>"
      ]
    },
    {
      "cell_type": "code",
      "execution_count": null,
      "metadata": {
        "colab": {
          "base_uri": "https://localhost:8080/"
        },
        "id": "GM3QBFkZtcvK",
        "outputId": "6a4fbd63-26c0-4c3a-be45-6f68c5d70f84"
      },
      "outputs": [
        {
          "output_type": "stream",
          "name": "stdout",
          "text": [
            "Looking in indexes: https://pypi.org/simple, https://us-python.pkg.dev/colab-wheels/public/simple/\n",
            "Collecting tensorflow-addons\n",
            "  Downloading tensorflow_addons-0.17.0-cp37-cp37m-manylinux_2_17_x86_64.manylinux2014_x86_64.whl (1.1 MB)\n",
            "\u001b[K     |████████████████████████████████| 1.1 MB 31.2 MB/s \n",
            "\u001b[?25hRequirement already satisfied: packaging in /usr/local/lib/python3.7/dist-packages (from tensorflow-addons) (21.3)\n",
            "Requirement already satisfied: typeguard>=2.7 in /usr/local/lib/python3.7/dist-packages (from tensorflow-addons) (2.7.1)\n",
            "Requirement already satisfied: pyparsing!=3.0.5,>=2.0.2 in /usr/local/lib/python3.7/dist-packages (from packaging->tensorflow-addons) (3.0.9)\n",
            "Installing collected packages: tensorflow-addons\n",
            "Successfully installed tensorflow-addons-0.17.0\n"
          ]
        }
      ],
      "source": [
        "pip install -U tensorflow-addons"
      ]
    },
    {
      "cell_type": "code",
      "source": [
        "import numpy as np\n",
        "import tensorflow as tf\n",
        "from tensorflow import keras\n",
        "from tensorflow.keras import layers\n",
        "import tensorflow_addons as tfa\n"
      ],
      "metadata": {
        "id": "3XCUCIYFu53v"
      },
      "execution_count": null,
      "outputs": []
    },
    {
      "cell_type": "code",
      "source": [
        "num_classes = 100\n",
        "input_shape = (32, 32, 3)\n",
        "\n",
        "(x_train, y_train), (x_test, y_test) = keras.datasets.cifar100.load_data()\n",
        "\n",
        "print(f\"x_train shape: {x_train.shape} - y_train shape: {y_train.shape}\")\n",
        "print(f\"x_test shape: {x_test.shape} - y_test shape: {y_test.shape}\")"
      ],
      "metadata": {
        "colab": {
          "base_uri": "https://localhost:8080/"
        },
        "id": "nKmDbgcwvQLq",
        "outputId": "ee2584f9-1ccc-4275-8eeb-ca0d6d674cf5"
      },
      "execution_count": null,
      "outputs": [
        {
          "output_type": "stream",
          "name": "stdout",
          "text": [
            "Downloading data from https://www.cs.toronto.edu/~kriz/cifar-100-python.tar.gz\n",
            "169009152/169001437 [==============================] - 13s 0us/step\n",
            "169017344/169001437 [==============================] - 13s 0us/step\n",
            "x_train shape: (50000, 32, 32, 3) - y_train shape: (50000, 1)\n",
            "x_test shape: (10000, 32, 32, 3) - y_test shape: (10000, 1)\n"
          ]
        }
      ]
    },
    {
      "cell_type": "markdown",
      "source": [
        ""
      ],
      "metadata": {
        "id": "Yjr3WH6YvoAl"
      }
    },
    {
      "cell_type": "code",
      "source": [
        "learning_rate = 0.001\n",
        "weight_decay = 0.0001\n",
        "batch_size = 256\n",
        "num_epochs = 100\n",
        "image_size = 72  # We'll resize input images to this size\n",
        "patch_size = 6  # Size of the patches to be extract from the input images\n",
        "num_patches = (image_size // patch_size) ** 2\n",
        "projection_dim = 64\n",
        "num_heads = 4\n",
        "transformer_units = [\n",
        "    projection_dim * 2,\n",
        "    projection_dim,\n",
        "]  # Size of the transformer layers\n",
        "transformer_layers = 8\n",
        "mlp_head_units = [2048, 1024]  # Size of the dense layers of the final classifier"
      ],
      "metadata": {
        "id": "HtadgWiLvize"
      },
      "execution_count": null,
      "outputs": []
    },
    {
      "cell_type": "markdown",
      "source": [
        ""
      ],
      "metadata": {
        "id": "oNa782vhv2rQ"
      }
    },
    {
      "cell_type": "code",
      "source": [
        "data_augmentation = keras.Sequential(\n",
        "    [\n",
        "        layers.Normalization(),\n",
        "        layers.Resizing(image_size, image_size),\n",
        "        layers.RandomFlip(\"horizontal\"),\n",
        "        layers.RandomRotation(factor=0.02),\n",
        "        layers.RandomZoom(\n",
        "            height_factor=0.2, width_factor=0.2\n",
        "        ),\n",
        "    ],\n",
        "    name=\"data_augmentation\",\n",
        ")\n",
        "# Compute the mean and the variance of the training data for normalization.\n",
        "data_augmentation.layers[0].adapt(x_train)"
      ],
      "metadata": {
        "id": "G_z6PEAHv3HM"
      },
      "execution_count": null,
      "outputs": []
    },
    {
      "cell_type": "markdown",
      "source": [
        ""
      ],
      "metadata": {
        "id": "XZ5rvBlDv9PF"
      }
    },
    {
      "cell_type": "code",
      "source": [
        "def mlp(x, hidden_units, dropout_rate):\n",
        "    for units in hidden_units:\n",
        "        x = layers.Dense(units, activation=tf.nn.gelu)(x)\n",
        "        x = layers.Dropout(dropout_rate)(x)\n",
        "    return x"
      ],
      "metadata": {
        "id": "-L-SN-Chv-Qp"
      },
      "execution_count": null,
      "outputs": []
    },
    {
      "cell_type": "markdown",
      "source": [
        ""
      ],
      "metadata": {
        "id": "Z6OGjvykwJU3"
      }
    },
    {
      "cell_type": "code",
      "source": [
        "class Patches(layers.Layer):\n",
        "    def __init__(self, patch_size):\n",
        "        super(Patches, self).__init__()\n",
        "        self.patch_size = patch_size\n",
        "\n",
        "    def call(self, images):\n",
        "        batch_size = tf.shape(images)[0]\n",
        "        patches = tf.image.extract_patches(\n",
        "            images=images,\n",
        "            sizes=[1, self.patch_size, self.patch_size, 1],\n",
        "            strides=[1, self.patch_size, self.patch_size, 1],\n",
        "            rates=[1, 1, 1, 1],\n",
        "            padding=\"VALID\",\n",
        "        )\n",
        "        patch_dims = patches.shape[-1]\n",
        "        patches = tf.reshape(patches, [batch_size, -1, patch_dims])\n",
        "        return patches"
      ],
      "metadata": {
        "id": "z5Rl4yhCwJ0E"
      },
      "execution_count": null,
      "outputs": []
    },
    {
      "cell_type": "markdown",
      "source": [
        ""
      ],
      "metadata": {
        "id": "G9zK9J8-wMPB"
      }
    },
    {
      "cell_type": "code",
      "source": [
        "import matplotlib.pyplot as plt\n",
        "\n",
        "plt.figure(figsize=(4, 4))\n",
        "image = x_train[np.random.choice(range(x_train.shape[0]))]\n",
        "plt.imshow(image.astype(\"uint8\"))\n",
        "plt.axis(\"off\")\n",
        "\n",
        "resized_image = tf.image.resize(\n",
        "    tf.convert_to_tensor([image]), size=(image_size, image_size)\n",
        ")\n",
        "patches = Patches(patch_size)(resized_image)\n",
        "print(f\"Image size: {image_size} X {image_size}\")\n",
        "print(f\"Patch size: {patch_size} X {patch_size}\")\n",
        "print(f\"Patches per image: {patches.shape[1]}\")\n",
        "print(f\"Elements per patch: {patches.shape[-1]}\")\n",
        "\n",
        "n = int(np.sqrt(patches.shape[1]))\n",
        "plt.figure(figsize=(4, 4))\n",
        "for i, patch in enumerate(patches[0]):\n",
        "    ax = plt.subplot(n, n, i + 1)\n",
        "    patch_img = tf.reshape(patch, (patch_size, patch_size, 3))\n",
        "    plt.imshow(patch_img.numpy().astype(\"uint8\"))\n",
        "    plt.axis(\"off\")"
      ],
      "metadata": {
        "colab": {
          "base_uri": "https://localhost:8080/",
          "height": 548
        },
        "id": "Foje_-sYwNbs",
        "outputId": "ad32cdb4-db68-40c1-bcc2-76d37ab6fc53"
      },
      "execution_count": null,
      "outputs": [
        {
          "output_type": "stream",
          "name": "stdout",
          "text": [
            "Image size: 72 X 72\n",
            "Patch size: 6 X 6\n",
            "Patches per image: 144\n",
            "Elements per patch: 108\n"
          ]
        },
        {
          "output_type": "display_data",
          "data": {
            "text/plain": [
              "<Figure size 288x288 with 1 Axes>"
            ],
            "image/png": "[encoded data removed]"
          },
          "metadata": {
            "needs_background": "light"
          }
        },
        {
          "output_type": "display_data",
          "data": {
            "text/plain": [
              "<Figure size 288x288 with 144 Axes>"
            ],
            "image/png": "[encoded data removed]"
          },
          "metadata": {
            "needs_background": "light"
          }
        }
      ]
    },
    {
      "cell_type": "markdown",
      "source": [
        ""
      ],
      "metadata": {
        "id": "_MOXWIIMwigS"
      }
    },
    {
      "cell_type": "code",
      "source": [
        "class PatchEncoder(layers.Layer):\n",
        "    def __init__(self, num_patches, projection_dim):\n",
        "        super(PatchEncoder, self).__init__()\n",
        "        self.num_patches = num_patches\n",
        "        self.projection = layers.Dense(units=projection_dim)\n",
        "        self.position_embedding = layers.Embedding(\n",
        "            input_dim=num_patches, output_dim=projection_dim\n",
        "        )\n",
        "\n",
        "    def call(self, patch):\n",
        "        positions = tf.range(start=0, limit=self.num_patches, delta=1)\n",
        "        encoded = self.projection(patch) + self.position_embedding(positions)\n",
        "        return encoded"
      ],
      "metadata": {
        "id": "LCxovYh0wjmx"
      },
      "execution_count": null,
      "outputs": []
    },
    {
      "cell_type": "markdown",
      "source": [
        ""
      ],
      "metadata": {
        "id": "7xwzMKM8wuJD"
      }
    },
    {
      "cell_type": "code",
      "source": [
        "def create_vit_classifier():\n",
        "    inputs = layers.Input(shape=input_shape)\n",
        "    # Augment data.\n",
        "    augmented = data_augmentation(inputs)\n",
        "    # Create patches.\n",
        "    patches = Patches(patch_size)(augmented)\n",
        "    # Encode patches.\n",
        "    encoded_patches = PatchEncoder(num_patches, projection_dim)(patches)\n",
        "\n",
        "    # Create multiple layers of the Transformer block.\n",
        "    for _ in range(transformer_layers):\n",
        "        # Layer normalization 1.\n",
        "        x1 = layers.LayerNormalization(epsilon=1e-6)(encoded_patches)\n",
        "        # Create a multi-head attention layer.\n",
        "        attention_output = layers.MultiHeadAttention(\n",
        "            num_heads=num_heads, key_dim=projection_dim, dropout=0.1\n",
        "        )(x1, x1)\n",
        "        # Skip connection 1.\n",
        "        x2 = layers.Add()([attention_output, encoded_patches])\n",
        "        # Layer normalization 2.\n",
        "        x3 = layers.LayerNormalization(epsilon=1e-6)(x2)\n",
        "        # MLP.\n",
        "        x3 = mlp(x3, hidden_units=transformer_units, dropout_rate=0.1)\n",
        "        # Skip connection 2.\n",
        "        encoded_patches = layers.Add()([x3, x2])\n",
        "\n",
        "    # Create a [batch_size, projection_dim] tensor.\n",
        "    representation = layers.LayerNormalization(epsilon=1e-6)(encoded_patches)\n",
        "    representation = layers.Flatten()(representation)\n",
        "    representation = layers.Dropout(0.5)(representation)\n",
        "    # Add MLP.\n",
        "    features = mlp(representation, hidden_units=mlp_head_units, dropout_rate=0.5)\n",
        "    # Classify outputs.\n",
        "    logits = layers.Dense(num_classes)(features)\n",
        "    # Create the Keras model.\n",
        "    model = keras.Model(inputs=inputs, outputs=logits)\n",
        "    return model"
      ],
      "metadata": {
        "id": "GKyKJxLxwuhE"
      },
      "execution_count": null,
      "outputs": []
    },
    {
      "cell_type": "markdown",
      "source": [
        ""
      ],
      "metadata": {
        "id": "U5tSOmnkwzEf"
      }
    },
    {
      "cell_type": "code",
      "source": [
        "def run_experiment(model):\n",
        "    optimizer = tfa.optimizers.AdamW(\n",
        "        learning_rate=learning_rate, weight_decay=weight_decay\n",
        "    )\n",
        "\n",
        "    model.compile(\n",
        "        optimizer=optimizer,\n",
        "        loss=keras.losses.SparseCategoricalCrossentropy(from_logits=True),\n",
        "        metrics=[\n",
        "            keras.metrics.SparseCategoricalAccuracy(name=\"accuracy\"),\n",
        "            keras.metrics.SparseTopKCategoricalAccuracy(5, name=\"top-5-accuracy\"),\n",
        "        ],\n",
        "    )\n",
        "\n",
        "    checkpoint_filepath = \"/tmp/checkpoint\"\n",
        "    checkpoint_callback = keras.callbacks.ModelCheckpoint(\n",
        "        checkpoint_filepath,\n",
        "        monitor=\"val_accuracy\",\n",
        "        save_best_only=True,\n",
        "        save_weights_only=True,\n",
        "    )\n",
        "\n",
        "    history = model.fit(\n",
        "        x=x_train,\n",
        "        y=y_train,\n",
        "        batch_size=batch_size,\n",
        "        epochs=num_epochs,\n",
        "        validation_split=0.1,\n",
        "        callbacks=[checkpoint_callback],\n",
        "    )\n",
        "\n",
        "    model.load_weights(checkpoint_filepath)\n",
        "    _, accuracy, top_5_accuracy = model.evaluate(x_test, y_test)\n",
        "    print(f\"Test accuracy: {round(accuracy * 100, 2)}%\")\n",
        "    print(f\"Test top 5 accuracy: {round(top_5_accuracy * 100, 2)}%\")\n",
        "\n",
        "    return history\n",
        "\n",
        "\n",
        "vit_classifier = create_vit_classifier()\n",
        "history = run_experiment(vit_classifier)"
      ],
      "metadata": {
        "colab": {
          "base_uri": "https://localhost:8080/"
        },
        "id": "t4euMQ81wzcs",
        "outputId": "a8d37766-3f99-4450-bff4-ef694e13b913"
      },
      "execution_count": null,
      "outputs": [
        {
          "output_type": "stream",
          "name": "stdout",
          "text": [
            "Epoch 1/100\n",
            "176/176 [==============================] - 80s 384ms/step - loss: 4.4769 - accuracy: 0.0457 - top-5-accuracy: 0.1600 - val_loss: 3.9191 - val_accuracy: 0.1100 - val_top-5-accuracy: 0.3146\n",
            "Epoch 2/100\n",
            "176/176 [==============================] - 67s 384ms/step - loss: 3.9248 - accuracy: 0.0982 - top-5-accuracy: 0.2948 - val_loss: 3.5561 - val_accuracy: 0.1656 - val_top-5-accuracy: 0.4146\n",
            "Epoch 3/100\n",
            "176/176 [==============================] - 67s 383ms/step - loss: 3.6847 - accuracy: 0.1342 - top-5-accuracy: 0.3693 - val_loss: 3.3600 - val_accuracy: 0.2046 - val_top-5-accuracy: 0.4662\n",
            "Epoch 4/100\n",
            "176/176 [==============================] - 67s 383ms/step - loss: 3.4976 - accuracy: 0.1653 - top-5-accuracy: 0.4241 - val_loss: 3.1944 - val_accuracy: 0.2234 - val_top-5-accuracy: 0.5076\n",
            "Epoch 5/100\n",
            "176/176 [==============================] - 67s 383ms/step - loss: 3.3468 - accuracy: 0.1931 - top-5-accuracy: 0.4672 - val_loss: 3.0542 - val_accuracy: 0.2518 - val_top-5-accuracy: 0.5424\n",
            "Epoch 6/100\n",
            "176/176 [==============================] - 67s 383ms/step - loss: 3.2017 - accuracy: 0.2172 - top-5-accuracy: 0.5025 - val_loss: 2.9583 - val_accuracy: 0.2750 - val_top-5-accuracy: 0.5630\n",
            "Epoch 7/100\n",
            "176/176 [==============================] - 67s 383ms/step - loss: 3.0848 - accuracy: 0.2398 - top-5-accuracy: 0.5376 - val_loss: 2.8295 - val_accuracy: 0.2880 - val_top-5-accuracy: 0.5980\n",
            "Epoch 8/100\n",
            "176/176 [==============================] - 68s 385ms/step - loss: 2.9638 - accuracy: 0.2648 - top-5-accuracy: 0.5656 - val_loss: 2.7158 - val_accuracy: 0.3192 - val_top-5-accuracy: 0.6166\n",
            "Epoch 9/100\n",
            "176/176 [==============================] - 67s 383ms/step - loss: 2.8532 - accuracy: 0.2848 - top-5-accuracy: 0.5924 - val_loss: 2.6075 - val_accuracy: 0.3388 - val_top-5-accuracy: 0.6488\n",
            "Epoch 10/100\n",
            "176/176 [==============================] - 67s 383ms/step - loss: 2.7579 - accuracy: 0.3058 - top-5-accuracy: 0.6156 - val_loss: 2.5401 - val_accuracy: 0.3586 - val_top-5-accuracy: 0.6590\n",
            "Epoch 11/100\n",
            "176/176 [==============================] - 67s 383ms/step - loss: 2.6806 - accuracy: 0.3194 - top-5-accuracy: 0.6314 - val_loss: 2.5335 - val_accuracy: 0.3602 - val_top-5-accuracy: 0.6564\n",
            "Epoch 12/100\n",
            "176/176 [==============================] - 67s 383ms/step - loss: 2.5857 - accuracy: 0.3401 - top-5-accuracy: 0.6508 - val_loss: 2.4161 - val_accuracy: 0.3766 - val_top-5-accuracy: 0.6778\n",
            "Epoch 13/100\n",
            "176/176 [==============================] - 67s 383ms/step - loss: 2.5069 - accuracy: 0.3551 - top-5-accuracy: 0.6706 - val_loss: 2.3474 - val_accuracy: 0.3928 - val_top-5-accuracy: 0.6938\n",
            "Epoch 14/100\n",
            "176/176 [==============================] - 67s 383ms/step - loss: 2.4438 - accuracy: 0.3687 - top-5-accuracy: 0.6829 - val_loss: 2.2924 - val_accuracy: 0.4110 - val_top-5-accuracy: 0.7060\n",
            "Epoch 15/100\n",
            "176/176 [==============================] - 68s 384ms/step - loss: 2.3692 - accuracy: 0.3825 - top-5-accuracy: 0.6998 - val_loss: 2.2704 - val_accuracy: 0.4144 - val_top-5-accuracy: 0.7108\n",
            "Epoch 16/100\n",
            "176/176 [==============================] - 67s 383ms/step - loss: 2.2962 - accuracy: 0.3998 - top-5-accuracy: 0.7155 - val_loss: 2.2370 - val_accuracy: 0.4178 - val_top-5-accuracy: 0.7208\n",
            "Epoch 17/100\n",
            "176/176 [==============================] - 67s 383ms/step - loss: 2.2335 - accuracy: 0.4114 - top-5-accuracy: 0.7282 - val_loss: 2.1831 - val_accuracy: 0.4314 - val_top-5-accuracy: 0.7318\n",
            "Epoch 18/100\n",
            "176/176 [==============================] - 67s 383ms/step - loss: 2.1608 - accuracy: 0.4267 - top-5-accuracy: 0.7436 - val_loss: 2.1447 - val_accuracy: 0.4444 - val_top-5-accuracy: 0.7340\n",
            "Epoch 19/100\n",
            "176/176 [==============================] - 67s 379ms/step - loss: 2.1112 - accuracy: 0.4383 - top-5-accuracy: 0.7509 - val_loss: 2.1231 - val_accuracy: 0.4438 - val_top-5-accuracy: 0.7452\n",
            "Epoch 20/100\n",
            "176/176 [==============================] - 67s 383ms/step - loss: 2.0544 - accuracy: 0.4509 - top-5-accuracy: 0.7642 - val_loss: 2.1006 - val_accuracy: 0.4528 - val_top-5-accuracy: 0.7462\n",
            "Epoch 21/100\n",
            "176/176 [==============================] - 68s 385ms/step - loss: 2.0072 - accuracy: 0.4618 - top-5-accuracy: 0.7718 - val_loss: 2.0530 - val_accuracy: 0.4628 - val_top-5-accuracy: 0.7592\n",
            "Epoch 22/100\n",
            "176/176 [==============================] - 67s 383ms/step - loss: 1.9525 - accuracy: 0.4728 - top-5-accuracy: 0.7826 - val_loss: 2.0187 - val_accuracy: 0.4728 - val_top-5-accuracy: 0.7672\n",
            "Epoch 23/100\n",
            "176/176 [==============================] - 67s 379ms/step - loss: 1.9107 - accuracy: 0.4822 - top-5-accuracy: 0.7926 - val_loss: 1.9995 - val_accuracy: 0.4700 - val_top-5-accuracy: 0.7672\n",
            "Epoch 24/100\n",
            "176/176 [==============================] - 67s 383ms/step - loss: 1.8608 - accuracy: 0.4930 - top-5-accuracy: 0.8021 - val_loss: 2.0067 - val_accuracy: 0.4770 - val_top-5-accuracy: 0.7638\n",
            "Epoch 25/100\n",
            "176/176 [==============================] - 68s 384ms/step - loss: 1.8141 - accuracy: 0.5027 - top-5-accuracy: 0.8080 - val_loss: 1.9881 - val_accuracy: 0.4798 - val_top-5-accuracy: 0.7656\n",
            "Epoch 26/100\n",
            "176/176 [==============================] - 67s 383ms/step - loss: 1.7832 - accuracy: 0.5101 - top-5-accuracy: 0.8158 - val_loss: 1.9789 - val_accuracy: 0.4838 - val_top-5-accuracy: 0.7698\n",
            "Epoch 27/100\n",
            "176/176 [==============================] - 67s 380ms/step - loss: 1.7481 - accuracy: 0.5202 - top-5-accuracy: 0.8209 - val_loss: 1.9915 - val_accuracy: 0.4752 - val_top-5-accuracy: 0.7662\n",
            "Epoch 28/100\n",
            "176/176 [==============================] - 67s 379ms/step - loss: 1.7075 - accuracy: 0.5313 - top-5-accuracy: 0.8299 - val_loss: 1.9810 - val_accuracy: 0.4828 - val_top-5-accuracy: 0.7702\n",
            "Epoch 29/100\n",
            "176/176 [==============================] - 67s 383ms/step - loss: 1.6756 - accuracy: 0.5382 - top-5-accuracy: 0.8328 - val_loss: 1.9411 - val_accuracy: 0.4942 - val_top-5-accuracy: 0.7798\n",
            "Epoch 30/100\n",
            "176/176 [==============================] - 67s 379ms/step - loss: 1.6481 - accuracy: 0.5421 - top-5-accuracy: 0.8417 - val_loss: 1.9724 - val_accuracy: 0.4808 - val_top-5-accuracy: 0.7768\n",
            "Epoch 31/100\n",
            "176/176 [==============================] - 67s 383ms/step - loss: 1.6062 - accuracy: 0.5514 - top-5-accuracy: 0.8466 - val_loss: 1.9299 - val_accuracy: 0.4968 - val_top-5-accuracy: 0.7848\n",
            "Epoch 32/100\n",
            "176/176 [==============================] - 67s 383ms/step - loss: 1.5883 - accuracy: 0.5561 - top-5-accuracy: 0.8486 - val_loss: 1.8882 - val_accuracy: 0.5010 - val_top-5-accuracy: 0.7910\n",
            "Epoch 33/100\n",
            "176/176 [==============================] - 67s 383ms/step - loss: 1.5399 - accuracy: 0.5692 - top-5-accuracy: 0.8581 - val_loss: 1.8852 - val_accuracy: 0.5088 - val_top-5-accuracy: 0.7920\n",
            "Epoch 34/100\n",
            "176/176 [==============================] - 67s 383ms/step - loss: 1.5059 - accuracy: 0.5756 - top-5-accuracy: 0.8637 - val_loss: 1.8836 - val_accuracy: 0.5098 - val_top-5-accuracy: 0.7892\n",
            "Epoch 35/100\n",
            "176/176 [==============================] - 67s 379ms/step - loss: 1.4840 - accuracy: 0.5805 - top-5-accuracy: 0.8667 - val_loss: 1.9046 - val_accuracy: 0.5030 - val_top-5-accuracy: 0.7924\n",
            "Epoch 36/100\n",
            "176/176 [==============================] - 67s 379ms/step - loss: 1.4602 - accuracy: 0.5867 - top-5-accuracy: 0.8722 - val_loss: 1.8934 - val_accuracy: 0.5054 - val_top-5-accuracy: 0.7900\n",
            "Epoch 37/100\n",
            "176/176 [==============================] - 67s 383ms/step - loss: 1.4241 - accuracy: 0.5955 - top-5-accuracy: 0.8767 - val_loss: 1.8727 - val_accuracy: 0.5102 - val_top-5-accuracy: 0.7994\n",
            "Epoch 38/100\n",
            "176/176 [==============================] - 67s 380ms/step - loss: 1.4160 - accuracy: 0.5992 - top-5-accuracy: 0.8776 - val_loss: 1.9125 - val_accuracy: 0.5062 - val_top-5-accuracy: 0.7922\n",
            "Epoch 39/100\n",
            "176/176 [==============================] - 67s 383ms/step - loss: 1.3889 - accuracy: 0.6054 - top-5-accuracy: 0.8823 - val_loss: 1.8763 - val_accuracy: 0.5156 - val_top-5-accuracy: 0.7984\n",
            "Epoch 40/100\n",
            "176/176 [==============================] - 67s 379ms/step - loss: 1.3596 - accuracy: 0.6132 - top-5-accuracy: 0.8877 - val_loss: 1.8763 - val_accuracy: 0.5132 - val_top-5-accuracy: 0.8020\n",
            "Epoch 41/100\n",
            "176/176 [==============================] - 67s 380ms/step - loss: 1.3281 - accuracy: 0.6212 - top-5-accuracy: 0.8903 - val_loss: 1.9171 - val_accuracy: 0.5100 - val_top-5-accuracy: 0.7866\n",
            "Epoch 42/100\n",
            "176/176 [==============================] - 67s 380ms/step - loss: 1.3213 - accuracy: 0.6193 - top-5-accuracy: 0.8928 - val_loss: 1.8726 - val_accuracy: 0.5150 - val_top-5-accuracy: 0.7942\n",
            "Epoch 43/100\n",
            "176/176 [==============================] - 67s 383ms/step - loss: 1.2994 - accuracy: 0.6260 - top-5-accuracy: 0.8970 - val_loss: 1.8587 - val_accuracy: 0.5250 - val_top-5-accuracy: 0.8064\n",
            "Epoch 44/100\n",
            "176/176 [==============================] - 68s 384ms/step - loss: 1.2745 - accuracy: 0.6315 - top-5-accuracy: 0.8975 - val_loss: 1.8465 - val_accuracy: 0.5254 - val_top-5-accuracy: 0.8058\n",
            "Epoch 45/100\n",
            "176/176 [==============================] - 67s 380ms/step - loss: 1.2482 - accuracy: 0.6422 - top-5-accuracy: 0.9024 - val_loss: 1.8473 - val_accuracy: 0.5190 - val_top-5-accuracy: 0.8016\n",
            "Epoch 46/100\n",
            "176/176 [==============================] - 68s 384ms/step - loss: 1.2347 - accuracy: 0.6429 - top-5-accuracy: 0.9067 - val_loss: 1.8610 - val_accuracy: 0.5258 - val_top-5-accuracy: 0.8064\n",
            "Epoch 47/100\n",
            "176/176 [==============================] - 68s 384ms/step - loss: 1.2184 - accuracy: 0.6496 - top-5-accuracy: 0.9069 - val_loss: 1.8495 - val_accuracy: 0.5290 - val_top-5-accuracy: 0.8062\n",
            "Epoch 48/100\n",
            "176/176 [==============================] - 67s 380ms/step - loss: 1.1989 - accuracy: 0.6526 - top-5-accuracy: 0.9095 - val_loss: 1.8972 - val_accuracy: 0.5184 - val_top-5-accuracy: 0.8040\n",
            "Epoch 49/100\n",
            "176/176 [==============================] - 67s 379ms/step - loss: 1.1959 - accuracy: 0.6529 - top-5-accuracy: 0.9111 - val_loss: 1.8844 - val_accuracy: 0.5236 - val_top-5-accuracy: 0.8022\n",
            "Epoch 50/100\n",
            "176/176 [==============================] - 67s 380ms/step - loss: 1.1679 - accuracy: 0.6619 - top-5-accuracy: 0.9147 - val_loss: 1.8561 - val_accuracy: 0.5286 - val_top-5-accuracy: 0.8030\n",
            "Epoch 51/100\n",
            "176/176 [==============================] - 67s 380ms/step - loss: 1.1487 - accuracy: 0.6662 - top-5-accuracy: 0.9170 - val_loss: 1.8592 - val_accuracy: 0.5290 - val_top-5-accuracy: 0.8044\n",
            "Epoch 52/100\n",
            "176/176 [==============================] - 67s 380ms/step - loss: 1.1333 - accuracy: 0.6714 - top-5-accuracy: 0.9185 - val_loss: 1.8503 - val_accuracy: 0.5264 - val_top-5-accuracy: 0.8038\n",
            "Epoch 53/100\n",
            "176/176 [==============================] - 67s 380ms/step - loss: 1.1293 - accuracy: 0.6681 - top-5-accuracy: 0.9199 - val_loss: 1.8628 - val_accuracy: 0.5276 - val_top-5-accuracy: 0.8060\n",
            "Epoch 54/100\n",
            "176/176 [==============================] - 68s 384ms/step - loss: 1.1071 - accuracy: 0.6772 - top-5-accuracy: 0.9228 - val_loss: 1.8572 - val_accuracy: 0.5368 - val_top-5-accuracy: 0.8122\n",
            "Epoch 55/100\n",
            "176/176 [==============================] - 67s 380ms/step - loss: 1.0990 - accuracy: 0.6776 - top-5-accuracy: 0.9236 - val_loss: 1.8676 - val_accuracy: 0.5332 - val_top-5-accuracy: 0.8066\n",
            "Epoch 56/100\n",
            "176/176 [==============================] - 67s 380ms/step - loss: 1.0764 - accuracy: 0.6852 - top-5-accuracy: 0.9261 - val_loss: 1.8634 - val_accuracy: 0.5334 - val_top-5-accuracy: 0.8074\n",
            "Epoch 57/100\n",
            "176/176 [==============================] - 67s 384ms/step - loss: 1.0662 - accuracy: 0.6853 - top-5-accuracy: 0.9274 - val_loss: 1.8430 - val_accuracy: 0.5392 - val_top-5-accuracy: 0.8068\n",
            "Epoch 58/100\n",
            "176/176 [==============================] - 67s 380ms/step - loss: 1.0574 - accuracy: 0.6910 - top-5-accuracy: 0.9291 - val_loss: 1.8834 - val_accuracy: 0.5324 - val_top-5-accuracy: 0.8060\n",
            "Epoch 59/100\n",
            "176/176 [==============================] - 67s 380ms/step - loss: 1.0382 - accuracy: 0.6949 - top-5-accuracy: 0.9313 - val_loss: 1.8774 - val_accuracy: 0.5344 - val_top-5-accuracy: 0.8048\n",
            "Epoch 60/100\n",
            "176/176 [==============================] - 67s 380ms/step - loss: 1.0352 - accuracy: 0.6915 - top-5-accuracy: 0.9322 - val_loss: 1.8936 - val_accuracy: 0.5346 - val_top-5-accuracy: 0.8028\n",
            "Epoch 61/100\n",
            "176/176 [==============================] - 68s 384ms/step - loss: 1.0212 - accuracy: 0.6987 - top-5-accuracy: 0.9329 - val_loss: 1.8920 - val_accuracy: 0.5396 - val_top-5-accuracy: 0.8058\n",
            "Epoch 62/100\n",
            "176/176 [==============================] - 67s 379ms/step - loss: 1.0081 - accuracy: 0.7015 - top-5-accuracy: 0.9353 - val_loss: 1.8863 - val_accuracy: 0.5364 - val_top-5-accuracy: 0.8098\n",
            "Epoch 63/100\n",
            "176/176 [==============================] - 67s 380ms/step - loss: 1.0005 - accuracy: 0.7024 - top-5-accuracy: 0.9360 - val_loss: 1.8943 - val_accuracy: 0.5366 - val_top-5-accuracy: 0.8074\n",
            "Epoch 64/100\n",
            "176/176 [==============================] - 67s 380ms/step - loss: 0.9853 - accuracy: 0.7069 - top-5-accuracy: 0.9382 - val_loss: 1.8767 - val_accuracy: 0.5312 - val_top-5-accuracy: 0.8056\n",
            "Epoch 65/100\n",
            "176/176 [==============================] - 67s 380ms/step - loss: 0.9911 - accuracy: 0.7064 - top-5-accuracy: 0.9374 - val_loss: 1.8906 - val_accuracy: 0.5320 - val_top-5-accuracy: 0.8074\n",
            "Epoch 66/100\n",
            "176/176 [==============================] - 67s 380ms/step - loss: 0.9799 - accuracy: 0.7094 - top-5-accuracy: 0.9402 - val_loss: 1.9165 - val_accuracy: 0.5336 - val_top-5-accuracy: 0.8090\n",
            "Epoch 67/100\n",
            "176/176 [==============================] - 67s 380ms/step - loss: 0.9643 - accuracy: 0.7120 - top-5-accuracy: 0.9404 - val_loss: 1.8788 - val_accuracy: 0.5370 - val_top-5-accuracy: 0.8128\n",
            "Epoch 68/100\n",
            "176/176 [==============================] - 67s 380ms/step - loss: 0.9580 - accuracy: 0.7166 - top-5-accuracy: 0.9409 - val_loss: 1.8851 - val_accuracy: 0.5318 - val_top-5-accuracy: 0.8106\n",
            "Epoch 69/100\n",
            "176/176 [==============================] - 67s 381ms/step - loss: 0.9482 - accuracy: 0.7193 - top-5-accuracy: 0.9436 - val_loss: 1.9085 - val_accuracy: 0.5288 - val_top-5-accuracy: 0.8056\n",
            "Epoch 70/100\n",
            "176/176 [==============================] - 67s 380ms/step - loss: 0.9365 - accuracy: 0.7226 - top-5-accuracy: 0.9434 - val_loss: 1.9345 - val_accuracy: 0.5302 - val_top-5-accuracy: 0.8054\n",
            "Epoch 71/100\n",
            "176/176 [==============================] - 67s 380ms/step - loss: 0.9329 - accuracy: 0.7213 - top-5-accuracy: 0.9441 - val_loss: 1.9838 - val_accuracy: 0.5228 - val_top-5-accuracy: 0.7956\n",
            "Epoch 72/100\n",
            "176/176 [==============================] - 67s 379ms/step - loss: 0.9199 - accuracy: 0.7274 - top-5-accuracy: 0.9466 - val_loss: 1.8980 - val_accuracy: 0.5352 - val_top-5-accuracy: 0.8062\n",
            "Epoch 73/100\n",
            "176/176 [==============================] - 67s 380ms/step - loss: 0.9026 - accuracy: 0.7314 - top-5-accuracy: 0.9493 - val_loss: 1.9086 - val_accuracy: 0.5326 - val_top-5-accuracy: 0.8042\n",
            "Epoch 74/100\n",
            "176/176 [==============================] - 68s 385ms/step - loss: 0.9144 - accuracy: 0.7275 - top-5-accuracy: 0.9447 - val_loss: 1.9049 - val_accuracy: 0.5472 - val_top-5-accuracy: 0.8092\n",
            "Epoch 75/100\n",
            "176/176 [==============================] - 67s 380ms/step - loss: 0.8872 - accuracy: 0.7357 - top-5-accuracy: 0.9496 - val_loss: 1.9311 - val_accuracy: 0.5418 - val_top-5-accuracy: 0.8096\n",
            "Epoch 76/100\n",
            "176/176 [==============================] - 67s 380ms/step - loss: 0.8938 - accuracy: 0.7325 - top-5-accuracy: 0.9479 - val_loss: 1.9455 - val_accuracy: 0.5372 - val_top-5-accuracy: 0.8024\n",
            "Epoch 77/100\n",
            "176/176 [==============================] - 67s 381ms/step - loss: 0.8896 - accuracy: 0.7347 - top-5-accuracy: 0.9502 - val_loss: 1.9117 - val_accuracy: 0.5352 - val_top-5-accuracy: 0.8076\n",
            "Epoch 78/100\n",
            "176/176 [==============================] - 67s 381ms/step - loss: 0.8732 - accuracy: 0.7378 - top-5-accuracy: 0.9517 - val_loss: 1.9155 - val_accuracy: 0.5388 - val_top-5-accuracy: 0.8102\n",
            "Epoch 79/100\n",
            "176/176 [==============================] - 67s 381ms/step - loss: 0.8727 - accuracy: 0.7406 - top-5-accuracy: 0.9494 - val_loss: 1.9148 - val_accuracy: 0.5390 - val_top-5-accuracy: 0.8042\n",
            "Epoch 80/100\n",
            "176/176 [==============================] - 67s 381ms/step - loss: 0.8742 - accuracy: 0.7382 - top-5-accuracy: 0.9505 - val_loss: 1.9223 - val_accuracy: 0.5370 - val_top-5-accuracy: 0.8022\n",
            "Epoch 81/100\n",
            "176/176 [==============================] - 67s 380ms/step - loss: 0.8486 - accuracy: 0.7441 - top-5-accuracy: 0.9533 - val_loss: 1.9538 - val_accuracy: 0.5380 - val_top-5-accuracy: 0.8068\n",
            "Epoch 82/100\n",
            "176/176 [==============================] - 67s 381ms/step - loss: 0.8516 - accuracy: 0.7465 - top-5-accuracy: 0.9539 - val_loss: 1.9296 - val_accuracy: 0.5368 - val_top-5-accuracy: 0.8112\n",
            "Epoch 83/100\n",
            "176/176 [==============================] - 67s 384ms/step - loss: 0.8438 - accuracy: 0.7460 - top-5-accuracy: 0.9543 - val_loss: 1.9391 - val_accuracy: 0.5488 - val_top-5-accuracy: 0.8166\n",
            "Epoch 84/100\n",
            "176/176 [==============================] - 67s 380ms/step - loss: 0.8463 - accuracy: 0.7482 - top-5-accuracy: 0.9534 - val_loss: 1.9365 - val_accuracy: 0.5388 - val_top-5-accuracy: 0.8134\n",
            "Epoch 85/100\n",
            "176/176 [==============================] - 67s 379ms/step - loss: 0.8322 - accuracy: 0.7520 - top-5-accuracy: 0.9559 - val_loss: 1.9122 - val_accuracy: 0.5358 - val_top-5-accuracy: 0.8096\n",
            "Epoch 86/100\n",
            "176/176 [==============================] - 67s 379ms/step - loss: 0.8400 - accuracy: 0.7490 - top-5-accuracy: 0.9556 - val_loss: 1.9346 - val_accuracy: 0.5408 - val_top-5-accuracy: 0.8110\n",
            "Epoch 87/100\n",
            "176/176 [==============================] - 67s 379ms/step - loss: 0.8338 - accuracy: 0.7514 - top-5-accuracy: 0.9550 - val_loss: 1.9122 - val_accuracy: 0.5384 - val_top-5-accuracy: 0.8106\n",
            "Epoch 88/100\n",
            "176/176 [==============================] - 67s 379ms/step - loss: 0.8340 - accuracy: 0.7494 - top-5-accuracy: 0.9555 - val_loss: 1.9323 - val_accuracy: 0.5430 - val_top-5-accuracy: 0.8104\n",
            "Epoch 89/100\n",
            "176/176 [==============================] - 67s 379ms/step - loss: 0.8139 - accuracy: 0.7538 - top-5-accuracy: 0.9574 - val_loss: 1.9359 - val_accuracy: 0.5442 - val_top-5-accuracy: 0.8102\n",
            "Epoch 90/100\n",
            "176/176 [==============================] - 67s 379ms/step - loss: 0.8214 - accuracy: 0.7546 - top-5-accuracy: 0.9563 - val_loss: 1.9712 - val_accuracy: 0.5294 - val_top-5-accuracy: 0.7984\n",
            "Epoch 91/100\n",
            "176/176 [==============================] - 67s 380ms/step - loss: 0.7894 - accuracy: 0.7632 - top-5-accuracy: 0.9589 - val_loss: 1.9224 - val_accuracy: 0.5428 - val_top-5-accuracy: 0.8140\n",
            "Epoch 92/100\n",
            "176/176 [==============================] - 67s 380ms/step - loss: 0.8071 - accuracy: 0.7568 - top-5-accuracy: 0.9583 - val_loss: 1.9217 - val_accuracy: 0.5384 - val_top-5-accuracy: 0.8076\n",
            "Epoch 93/100\n",
            "176/176 [==============================] - 67s 380ms/step - loss: 0.7951 - accuracy: 0.7591 - top-5-accuracy: 0.9596 - val_loss: 1.8953 - val_accuracy: 0.5460 - val_top-5-accuracy: 0.8108\n",
            "Epoch 94/100\n",
            "176/176 [==============================] - 67s 380ms/step - loss: 0.7840 - accuracy: 0.7638 - top-5-accuracy: 0.9601 - val_loss: 1.9518 - val_accuracy: 0.5452 - val_top-5-accuracy: 0.8110\n",
            "Epoch 95/100\n",
            "176/176 [==============================] - 67s 380ms/step - loss: 0.7882 - accuracy: 0.7626 - top-5-accuracy: 0.9596 - val_loss: 1.9386 - val_accuracy: 0.5400 - val_top-5-accuracy: 0.8076\n",
            "Epoch 96/100\n",
            "176/176 [==============================] - 67s 380ms/step - loss: 0.7868 - accuracy: 0.7624 - top-5-accuracy: 0.9608 - val_loss: 1.8980 - val_accuracy: 0.5374 - val_top-5-accuracy: 0.8148\n",
            "Epoch 97/100\n",
            "176/176 [==============================] - 67s 381ms/step - loss: 0.7906 - accuracy: 0.7617 - top-5-accuracy: 0.9594 - val_loss: 1.9377 - val_accuracy: 0.5458 - val_top-5-accuracy: 0.8154\n",
            "Epoch 98/100\n",
            "176/176 [==============================] - 67s 381ms/step - loss: 0.7779 - accuracy: 0.7687 - top-5-accuracy: 0.9593 - val_loss: 1.9465 - val_accuracy: 0.5430 - val_top-5-accuracy: 0.8114\n",
            "Epoch 99/100\n",
            "176/176 [==============================] - 67s 380ms/step - loss: 0.7798 - accuracy: 0.7655 - top-5-accuracy: 0.9620 - val_loss: 1.9481 - val_accuracy: 0.5402 - val_top-5-accuracy: 0.8122\n",
            "Epoch 100/100\n",
            "176/176 [==============================] - 67s 380ms/step - loss: 0.7756 - accuracy: 0.7672 - top-5-accuracy: 0.9601 - val_loss: 2.0133 - val_accuracy: 0.5326 - val_top-5-accuracy: 0.8106\n",
            "313/313 [==============================] - 7s 23ms/step - loss: 1.8879 - accuracy: 0.5446 - top-5-accuracy: 0.8189\n",
            "Test accuracy: 54.46%\n",
            "Test top 5 accuracy: 81.89%\n"
          ]
        }
      ]
    }
  ]
}